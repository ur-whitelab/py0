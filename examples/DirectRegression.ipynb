{
 "cells": [
  {
   "cell_type": "code",
   "execution_count": 1,
   "metadata": {},
   "outputs": [],
   "source": [
    "import py0\n",
    "import maxent\n",
    "import numpy as np\n",
    "import tensorflow as tf\n",
    "import matplotlib.pyplot as plt\n",
    "import scipy.stats as ss\n",
    "plt.style.use('seaborn-darkgrid')\n",
    "# disabling gpu for now\n",
    "import os\n",
    "os.environ[\"CUDA_VISIBLE_DEVICES\"] = \"-1\""
   ]
  },
  {
   "cell_type": "markdown",
   "metadata": {},
   "source": [
    "## Set-up Initial Guesses"
   ]
  },
  {
   "cell_type": "code",
   "execution_count": 2,
   "metadata": {},
   "outputs": [
    {
     "data": {
      "text/plain": [
       "(array([[0.24462748, 0.35469824, 0.40067427],\n",
       "        [0.17922773, 0.77395995, 0.04681232],\n",
       "        [0.04531665, 0.47713578, 0.47754757]]),\n",
       " array([1., 1., 1.]))"
      ]
     },
     "execution_count": 2,
     "metadata": {},
     "output_type": "execute_result"
    }
   ],
   "source": [
    "M = 3\n",
    "R = np.abs(np.random.normal(size=(M,M), loc=1.25))\n",
    "R = R / np.sum(R, axis=1).reshape(M,1)\n",
    "R, np.sum(R, axis=1)"
   ]
  },
  {
   "cell_type": "code",
   "execution_count": 3,
   "metadata": {},
   "outputs": [
    {
     "data": {
      "text/plain": [
       "array([[0.8       , 0.2       , 0.        , 0.        ],\n",
       "       [0.        , 0.66666667, 0.33333333, 0.        ],\n",
       "       [0.        , 0.        , 0.92857143, 0.07142857],\n",
       "       [0.        , 0.        , 0.        , 1.        ]])"
      ]
     },
     "execution_count": 3,
     "metadata": {},
     "output_type": "execute_result"
    }
   ],
   "source": [
    "# compartment parameters\n",
    "compartments = ['E', 'A', 'I', 'R']\n",
    "C = len(compartments)\n",
    "tmat = py0.TransitionMatrix(compartments, [1,2])\n",
    "tmat.add_transition('E', 'A', 5, 0)\n",
    "tmat.add_transition('A', 'I', 3, 0)\n",
    "tmat.add_transition('I', 'R', 14, 0)\n",
    "tmat.value"
   ]
  },
  {
   "cell_type": "code",
   "execution_count": 4,
   "metadata": {},
   "outputs": [],
   "source": [
    "start = np.zeros((M, C))\n",
    "start[0, 1] = 0.1\n",
    "beta = np.array([0.2, 0.2])\n",
    "infect = py0.ContactInfectionLayer(beta, [1,2])"
   ]
  },
  {
   "cell_type": "markdown",
   "metadata": {},
   "source": [
    "## Build Metapopulation Keras Model"
   ]
  },
  {
   "cell_type": "code",
   "execution_count": 5,
   "metadata": {},
   "outputs": [],
   "source": [
    "model = py0.TrainableMetaModel(start, R, tmat.value, infect, 150, lambda traj: (traj[0, 100, 0, 3] - 0.3)**2)"
   ]
  },
  {
   "cell_type": "code",
   "execution_count": 6,
   "metadata": {},
   "outputs": [
    {
     "name": "stdout",
     "output_type": "stream",
     "text": [
      "100/100 [==============================] - 7s 45ms/step - loss: 0.0218 - output_2_loss: 0.0218\n"
     ]
    }
   ],
   "source": [
    "model.compile(optimizer=tf.keras.optimizers.RMSprop())\n",
    "utraj = model.get_traj()\n",
    "model.fit()"
   ]
  },
  {
   "cell_type": "code",
   "execution_count": 7,
   "metadata": {},
   "outputs": [
    {
     "name": "stdout",
     "output_type": "stream",
     "text": [
      "Model: \"trainable_meta_model\"\n",
      "_________________________________________________________________\n",
      "Layer (type)                 Output Shape              Param #   \n",
      "=================================================================\n",
      "trainable_input_layer (Train multiple                  9         \n",
      "_________________________________________________________________\n",
      "trainable_input_layer_1 (Tra multiple                  16        \n",
      "_________________________________________________________________\n",
      "trainable_input_layer_2 (Tra multiple                  12        \n",
      "_________________________________________________________________\n",
      "metapop_layer (MetapopLayer) multiple                  2         \n",
      "_________________________________________________________________\n",
      "traj (AddSusceptibleLayer)   multiple                  0         \n",
      "_________________________________________________________________\n",
      "lambda (Lambda)              multiple                  0         \n",
      "=================================================================\n",
      "Total params: 39\n",
      "Trainable params: 39\n",
      "Non-trainable params: 0\n",
      "_________________________________________________________________\n"
     ]
    }
   ],
   "source": [
    "model.summary()"
   ]
  },
  {
   "cell_type": "markdown",
   "metadata": {},
   "source": [
    "## Plot agreement with constraint\n",
    "\n",
    "We only set agreement at `T = 100`"
   ]
  },
  {
   "cell_type": "code",
   "execution_count": 8,
   "metadata": {},
   "outputs": [],
   "source": [
    "traj = model.get_traj()"
   ]
  },
  {
   "cell_type": "code",
   "execution_count": 9,
   "metadata": {},
   "outputs": [
    {
     "data": {
      "text/plain": [
       "[<matplotlib.lines.Line2D at 0x7fdaec360ed0>]"
      ]
     },
     "execution_count": 9,
     "metadata": {},
     "output_type": "execute_result"
    },
    {
     "data": {
      "image/png": "[encoded data removed]",
      "text/plain": [
       "<Figure size 432x288 with 1 Axes>"
      ]
     },
     "metadata": {},
     "output_type": "display_data"
    }
   ],
   "source": [
    "plt.plot(traj[0, :, 0, :])\n",
    "plt.gca().set_prop_cycle(None)\n",
    "plt.plot(utraj[0, :, 0, :], linestyle='--')\n",
    "plt.plot(100, 0.3, 'o')"
   ]
  }
 ],
 "metadata": {
  "kernelspec": {
   "display_name": "python3",
   "language": "python",
   "name": "python3"
  },
  "language_info": {
   "codemirror_mode": {
    "name": "ipython",
    "version": 3
   },
   "file_extension": ".py",
   "mimetype": "text/x-python",
   "name": "python",
   "nbconvert_exporter": "python",
   "pygments_lexer": "ipython3",
   "version": "3.7.9"
  }
 },
 "nbformat": 4,
 "nbformat_minor": 4
}
