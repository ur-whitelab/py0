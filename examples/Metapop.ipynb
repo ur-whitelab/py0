{
 "cells": [
  {
   "cell_type": "code",
   "execution_count": 1,
   "metadata": {},
   "outputs": [],
   "source": [
    "import pandas as pd\n",
    "import maxentep\n",
    "from maxentep import MetaModel, traj_quantile, patch_quantile\n",
    "import numpy as np\n",
    "import tensorflow as tf\n",
    "import matplotlib.pyplot as plt\n",
    "import scipy.stats as ss\n",
    "import seaborn as sns\n",
    "plt.style.use('seaborn-darkgrid')\n",
    "# disabling gpu for now\n",
    "import os\n",
    "os.environ[\"CUDA_VISIBLE_DEVICES\"] = \"-1\""
   ]
  },
  {
   "cell_type": "markdown",
   "metadata": {},
   "source": [
    "## Set-up Model Parameters"
   ]
  },
  {
   "cell_type": "code",
   "execution_count": 1,
   "metadata": {},
   "outputs": [
    {
     "ename": "NameError",
     "evalue": "name 'pd' is not defined",
     "output_type": "error",
     "traceback": [
      "\u001b[1;31m---------------------------------------------------------------------------\u001b[0m",
      "\u001b[1;31mNameError\u001b[0m                                 Traceback (most recent call last)",
      "\u001b[1;32m<ipython-input-1-f70921d43774>\u001b[0m in \u001b[0;36m<module>\u001b[1;34m\u001b[0m\n\u001b[0;32m      1\u001b[0m \u001b[1;31m# load mobility matrix\u001b[0m\u001b[1;33m\u001b[0m\u001b[1;33m\u001b[0m\u001b[1;33m\u001b[0m\u001b[0m\n\u001b[1;32m----> 2\u001b[1;33m \u001b[0mdata\u001b[0m \u001b[1;33m=\u001b[0m \u001b[0mpd\u001b[0m\u001b[1;33m.\u001b[0m\u001b[0mread_csv\u001b[0m\u001b[1;33m(\u001b[0m\u001b[1;34m'../../../Dropbox/Epidemiology/trajectories/nys_commuting_counties.csv'\u001b[0m\u001b[1;33m,\u001b[0m \u001b[0mindex_col\u001b[0m \u001b[1;33m=\u001b[0m \u001b[1;36m0\u001b[0m\u001b[1;33m)\u001b[0m\u001b[1;33m.\u001b[0m\u001b[0mvalues\u001b[0m\u001b[1;33m\u001b[0m\u001b[1;33m\u001b[0m\u001b[0m\n\u001b[0m\u001b[0;32m      3\u001b[0m \u001b[0mdata\u001b[0m \u001b[1;33m=\u001b[0m \u001b[1;33m[\u001b[0m\u001b[0mi\u001b[0m \u001b[1;33m/\u001b[0m \u001b[0mnp\u001b[0m\u001b[1;33m.\u001b[0m\u001b[0msum\u001b[0m\u001b[1;33m(\u001b[0m\u001b[0mi\u001b[0m\u001b[1;33m)\u001b[0m \u001b[1;32mfor\u001b[0m \u001b[0mi\u001b[0m \u001b[1;32min\u001b[0m \u001b[0mdata\u001b[0m\u001b[1;33m]\u001b[0m\u001b[1;33m\u001b[0m\u001b[1;33m\u001b[0m\u001b[0m\n\u001b[0;32m      4\u001b[0m \u001b[0mR\u001b[0m \u001b[1;33m=\u001b[0m \u001b[0mnp\u001b[0m\u001b[1;33m.\u001b[0m\u001b[0marray\u001b[0m\u001b[1;33m(\u001b[0m\u001b[0mdata\u001b[0m\u001b[1;33m)\u001b[0m\u001b[1;33m\u001b[0m\u001b[1;33m\u001b[0m\u001b[0m\n\u001b[0;32m      5\u001b[0m \u001b[0mM\u001b[0m \u001b[1;33m=\u001b[0m \u001b[0mR\u001b[0m\u001b[1;33m.\u001b[0m\u001b[0mshape\u001b[0m\u001b[1;33m[\u001b[0m\u001b[1;36m0\u001b[0m\u001b[1;33m]\u001b[0m\u001b[1;33m\u001b[0m\u001b[1;33m\u001b[0m\u001b[0m\n",
      "\u001b[1;31mNameError\u001b[0m: name 'pd' is not defined"
     ]
    }
   ],
   "source": [
    "# load mobility matrix\n",
    "data = pd.read_csv('../../../Dropbox/Epidemiology/trajectories/nys_commuting_counties.csv', index_col = 0).values\n",
    "data = [i / np.sum(i) for i in data]\n",
    "R = np.array(data)\n",
    "M = R.shape[0]\n",
    "np.sum(R, axis=1)"
   ]
  },
  {
   "cell_type": "code",
   "execution_count": null,
   "metadata": {},
   "outputs": [],
   "source": [
    "# compartment parameters\n",
    "compartments = ['E', 'A', 'I', 'R']\n",
    "infections_compartments = [1,2]\n",
    "C = len(compartments)\n",
    "tmat = maxentep.TransitionMatrix(compartments, [1,2])\n",
    "tmat.add_transition('E', 'A', 5)\n",
    "tmat.add_transition('A', 'I', 3)\n",
    "tmat.add_transition('I', 'R', 14)\n",
    "print(tmat.value)\n",
    "np.sum(tmat.value, axis=1)"
   ]
  },
  {
   "cell_type": "code",
   "execution_count": 4,
   "metadata": {},
   "outputs": [],
   "source": [
    "# starting fractions means\n",
    "start = np.zeros((M, C))\n",
    "start[:,compartments.index('I')] = 0.1"
   ]
  },
  {
   "cell_type": "markdown",
   "metadata": {},
   "source": [
    "## Make starting joint"
   ]
  },
  {
   "cell_type": "code",
   "execution_count": 5,
   "metadata": {},
   "outputs": [],
   "source": [
    "param_model = maxentep.parameter_joint(start, R, tmat.value, 0.2, name='unbiased')\n",
    "param_joint = param_model(tf.constant([1.]))"
   ]
  },
  {
   "cell_type": "markdown",
   "metadata": {},
   "source": [
    "## Examine some of the statistics"
   ]
  },
  {
   "cell_type": "code",
   "execution_count": 6,
   "metadata": {},
   "outputs": [
    {
     "data": {
      "text/plain": [
       "<tf.Tensor: shape=(1, 7, 4), dtype=float32, numpy=\n",
       "array([[[9.6155310e-01, 3.8446918e-02, 1.3896341e-39, 1.3896341e-39],\n",
       "        [1.5582887e-39, 6.0864210e-01, 3.9135796e-01, 1.5582887e-39],\n",
       "        [3.2298010e-39, 3.2298010e-39, 9.6619242e-01, 3.3807565e-02],\n",
       "        [2.7868674e-39, 2.7868674e-39, 2.7868674e-39, 1.0000000e+00],\n",
       "        [2.5000000e-01, 2.5000000e-01, 2.5000000e-01, 2.5000000e-01],\n",
       "        [2.5000000e-01, 2.5000000e-01, 2.5000000e-01, 2.5000000e-01],\n",
       "        [2.5000000e-01, 2.5000000e-01, 2.5000000e-01, 2.5000000e-01]]],\n",
       "      dtype=float32)>"
      ]
     },
     "execution_count": 6,
     "metadata": {},
     "output_type": "execute_result"
    }
   ],
   "source": [
    "param_joint[1].sample(1)"
   ]
  },
  {
   "cell_type": "code",
   "execution_count": 7,
   "metadata": {},
   "outputs": [
    {
     "data": {
      "image/png": "[encoded data removed]",
      "text/plain": [
       "<Figure size 432x288 with 1 Axes>"
      ]
     },
     "metadata": {},
     "output_type": "display_data"
    }
   ],
   "source": [
    "x = param_joint[1].sample(500)[:,compartments.index('I'), compartments.index('R')].numpy()\n",
    "sns.distplot(x=x)\n",
    "plt.show()"
   ]
  },
  {
   "cell_type": "code",
   "execution_count": null,
   "metadata": {},
   "outputs": [],
   "source": [
    "# check transition matrix is valud\n",
    "T = param_joint[1].sample(1)[0].numpy()\n",
    "f = [0.8,0,0,0]\n",
    "for i in range(10):\n",
    "    f = f @ T\n",
    "    print(f, np.sum(f))"
   ]
  },
  {
   "cell_type": "code",
   "execution_count": null,
   "metadata": {},
   "outputs": [],
   "source": []
  },
  {
   "cell_type": "markdown",
   "metadata": {},
   "source": [
    "\n",
    "## Create set of trajectories\n",
    "The loop is just to batch the trajectories. It is not necessary, just I have my at home GPU which has small RAM.\n",
    "You could instead just pick `N = 16 * 256` and call once."
   ]
  },
  {
   "cell_type": "code",
   "execution_count": null,
   "metadata": {},
   "outputs": [],
   "source": [
    "import tqdm\n",
    "#tf.debugging.enable_check_numerics()\n",
    "N = 256\n",
    "batches = 1\n",
    "outs = []\n",
    "timesteps = 1000\n",
    "infect_fxn = maxentep.contact_infection_func(infections_compartments)\n",
    "model = MetaModel(infect_fxn, timesteps)\n",
    "for b in tqdm.tqdm(range(batches)):\n",
    "    psample = [j.sample(N) for j in param_joint]\n",
    "    outs.append(model(*psample))\n",
    "trajs = np.concatenate(outs, axis=0)\n",
    "print(trajs.shape)"
   ]
  },
  {
   "cell_type": "code",
   "execution_count": null,
   "metadata": {},
   "outputs": [],
   "source": [
    "# plot a few trajectories\n",
    "fig, ax = plt.subplots(3, 3, figsize=(12,8))\n",
    "for i in range(3):\n",
    "    for j in range(3):\n",
    "        ax[i,j].plot(trajs[i * 3 + j,:,0,:])\n",
    "plt.show()"
   ]
  },
  {
   "cell_type": "markdown",
   "metadata": {},
   "source": [
    "## Make quantile Plots"
   ]
  },
  {
   "cell_type": "code",
   "execution_count": null,
   "metadata": {
    "scrolled": true
   },
   "outputs": [],
   "source": [
    "full_compartments = ['S'] + compartments\n",
    "traj_quantile(trajs[:,:,0,:], names=full_compartments, plot_means=True)\n",
    "plt.show()\n",
    "traj_quantile(trajs[:,:,1,:], names=full_compartments, plot_means=True)\n",
    "plt.show()\n",
    "traj_quantile(trajs[:,:,2,:], names=full_compartments, plot_means=True)\n",
    "plt.ylim(0,0.2)\n",
    "plt.show()"
   ]
  },
  {
   "cell_type": "markdown",
   "metadata": {},
   "source": [
    "## Create arbitrary restraints"
   ]
  },
  {
   "cell_type": "code",
   "execution_count": null,
   "metadata": {},
   "outputs": [],
   "source": [
    "restraints = np.array([\n",
    "    [0.4, 0, 250, 0, 0],\n",
    "    [0.12,0.05,200,2,1],\n",
    "    [0.8, 0.1,900, 1, 4],\n",
    "    [0.6, 0.1, 250, 34, 4],\n",
    "    [0.4, 0.1, 250, 24, 0],\n",
    "             ])\n",
    "laplace_restraints = []\n",
    "for i in range(len(restraints)):\n",
    "    traj_index = tuple(restraints[i, 2:].astype(np.int))\n",
    "    value = restraints[i, 0]\n",
    "    uncertainty = restraints[i, 1]\n",
    "    p = maxentep.Laplace(uncertainty)\n",
    "    #p = maxentep.EmptyPrior()\n",
    "    r = maxentep.Restraint(lambda traj,j=traj_index: traj[j], value, p)\n",
    "    laplace_restraints.append(r)"
   ]
  },
  {
   "cell_type": "markdown",
   "metadata": {},
   "source": [
    "## Use maxent model to fit"
   ]
  },
  {
   "cell_type": "code",
   "execution_count": null,
   "metadata": {},
   "outputs": [],
   "source": [
    "model = maxentep.MaxentModel(laplace_restraints)\n",
    "model.compile(tf.keras.optimizers.Nadam(learning_rate=1e-2), 'mean_squared_error')"
   ]
  },
  {
   "cell_type": "code",
   "execution_count": null,
   "metadata": {
    "scrolled": true
   },
   "outputs": [],
   "source": [
    "history = model.fit(trajs, batch_size=16, epochs=10, verbose=0)"
   ]
  },
  {
   "cell_type": "code",
   "execution_count": null,
   "metadata": {},
   "outputs": [],
   "source": [
    "model.summary()"
   ]
  },
  {
   "cell_type": "code",
   "execution_count": null,
   "metadata": {},
   "outputs": [],
   "source": [
    "plt.plot(history.history['loss'])"
   ]
  },
  {
   "cell_type": "code",
   "execution_count": null,
   "metadata": {},
   "outputs": [],
   "source": [
    "weights = model.traj_weights\n",
    "plt.hist(weights)\n",
    "plt.show()\n",
    "plt.plot(model.lambdas.numpy(), 'o')"
   ]
  },
  {
   "cell_type": "markdown",
   "metadata": {},
   "source": [
    "## Complete patch plots\n",
    "disable if you want, they are very slow"
   ]
  },
  {
   "cell_type": "code",
   "execution_count": null,
   "metadata": {},
   "outputs": [],
   "source": [
    "patch_quantile(trajs, figsize=(18, 14), alpha=0.6, names=['S', 'E', 'A', 'I', 'R'])\n",
    "plt.show()"
   ]
  },
  {
   "cell_type": "code",
   "execution_count": null,
   "metadata": {},
   "outputs": [],
   "source": [
    "patch_quantile(trajs, weights=weights, figsize=(18, 14), alpha=0.6, names=['S', 'E', 'A', 'I', 'R'])\n",
    "plt.show()"
   ]
  },
  {
   "cell_type": "markdown",
   "metadata": {},
   "source": [
    "## Final plots showing agreement"
   ]
  },
  {
   "cell_type": "code",
   "execution_count": null,
   "metadata": {
    "scrolled": false
   },
   "outputs": [],
   "source": [
    "for p in [0,1,2,34,24]:\n",
    "    plt.figure(figsize=(5,4))\n",
    "    plt.title(f'MaxEnt - {p}')\n",
    "    traj_quantile(trajs[:,:,p,:], weights, add_legend=False, names=['S', 'E', 'A', 'I', 'R'])\n",
    "    for i, (pr, r) in enumerate(zip(laplace_restraints, restraints)):    \n",
    "        if r[3] == p:\n",
    "            plt.plot(r[2], r[0], 'o', color=f'C{int(r[-1])}', label='Constraint')\n",
    "            plt.errorbar(r[2], r[0], yerr=pr.prior.expected(float(model.lambdas[i])), color=f'C{int(r[-1])}', capsize=8)\n",
    "    plt.legend(loc='best')\n",
    "    plt.ylim(0,1)\n",
    "    plt.show()\n",
    "    plt.figure(figsize=(5,4))\n",
    "    plt.title(f'Unbiased - {p}')\n",
    "    traj_quantile(trajs[:,:,p,:], add_legend=False, names=['S', 'E', 'A', 'I', 'R'])\n",
    "    for i, (pr, r) in enumerate(zip(laplace_restraints, restraints)):    \n",
    "        if r[3] == p:\n",
    "            plt.plot(r[2], r[0], 'o', color=f'C{int(r[-1])}', label='Constraint')\n",
    "            plt.errorbar(r[2], r[0], yerr=pr.prior.expected(float(model.lambdas[i])), color=f'C{int(r[-1])}', capsize=8)\n",
    "    plt.legend(loc='best')\n",
    "    plt.ylim(0,1)\n",
    "    plt.show()"
   ]
  },
  {
   "cell_type": "code",
   "execution_count": null,
   "metadata": {},
   "outputs": [],
   "source": []
  }
 ],
 "metadata": {
  "kernelspec": {
   "display_name": "Python 3",
   "language": "python",
   "name": "python3"
  }
 },
 "nbformat": 4,
 "nbformat_minor": 4
}
