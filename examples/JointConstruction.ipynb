{
 "cells": [
  {
   "cell_type": "markdown",
   "metadata": {},
   "source": [
    "# Notes\n",
    "These are just notes I used for constructing the TFP joints"
   ]
  },
  {
   "cell_type": "code",
   "execution_count": 1,
   "metadata": {},
   "outputs": [
    {
     "data": {
      "text/plain": [
       "'0.11.0'"
      ]
     },
     "execution_count": 1,
     "metadata": {},
     "output_type": "execute_result"
    }
   ],
   "source": [
    "import tensorflow as tf\n",
    "import tensorflow_probability as tfp\n",
    "import numpy as np\n",
    "tfd = tfp.distributions\n",
    "tfb = tfp.bijectors\n",
    "from tensorflow_probability.python.internal import tensorshape_util\n",
    "tfp.__version__"
   ]
  },
  {
   "cell_type": "code",
   "execution_count": 2,
   "metadata": {},
   "outputs": [],
   "source": [
    "import maxentep"
   ]
  },
  {
   "cell_type": "code",
   "execution_count": 19,
   "metadata": {},
   "outputs": [],
   "source": [
    "i =  tf.keras.Input((1,))\n",
    "logits = np.array(np.random.normal(size=10)).astype(np.float32)\n",
    "l = maxentep.categorical_normal_layer(i,logits, 0.2, 0.01, 'cn')"
   ]
  },
  {
   "cell_type": "code",
   "execution_count": 23,
   "metadata": {},
   "outputs": [],
   "source": [
    "model = tf.keras.Model(inputs=i, outputs=l)\n",
    "j = model(tf.constant([1.]))"
   ]
  },
  {
   "cell_type": "code",
   "execution_count": 26,
   "metadata": {},
   "outputs": [
    {
     "data": {
      "text/plain": [
       "[<tf.Tensor: shape=(5, 1, 10), dtype=float32, numpy=\n",
       " array([[[0., 0., 1., 0., 0., 0., 0., 0., 0., 0.]],\n",
       " \n",
       "        [[0., 0., 0., 0., 1., 0., 0., 0., 0., 0.]],\n",
       " \n",
       "        [[0., 0., 0., 0., 0., 0., 0., 1., 0., 0.]],\n",
       " \n",
       "        [[0., 1., 0., 0., 0., 0., 0., 0., 0., 0.]],\n",
       " \n",
       "        [[0., 0., 0., 0., 0., 0., 0., 1., 0., 0.]]], dtype=float32)>,\n",
       " <tf.Tensor: shape=(5, 1), dtype=float32, numpy=\n",
       " array([[0.19137411],\n",
       "        [0.20370506],\n",
       "        [0.21425095],\n",
       "        [0.20338118],\n",
       "        [0.19698074]], dtype=float32)>,\n",
       " <tf.Tensor: shape=(5, 5, 10), dtype=float32, numpy=\n",
       " array([[[0.        , 0.        , 0.19137411, 0.        , 0.        ,\n",
       "          0.        , 0.        , 0.        , 0.        , 0.        ],\n",
       "         [0.        , 0.        , 0.20370506, 0.        , 0.        ,\n",
       "          0.        , 0.        , 0.        , 0.        , 0.        ],\n",
       "         [0.        , 0.        , 0.21425095, 0.        , 0.        ,\n",
       "          0.        , 0.        , 0.        , 0.        , 0.        ],\n",
       "         [0.        , 0.        , 0.20338118, 0.        , 0.        ,\n",
       "          0.        , 0.        , 0.        , 0.        , 0.        ],\n",
       "         [0.        , 0.        , 0.19698074, 0.        , 0.        ,\n",
       "          0.        , 0.        , 0.        , 0.        , 0.        ]],\n",
       " \n",
       "        [[0.        , 0.        , 0.        , 0.        , 0.19137411,\n",
       "          0.        , 0.        , 0.        , 0.        , 0.        ],\n",
       "         [0.        , 0.        , 0.        , 0.        , 0.20370506,\n",
       "          0.        , 0.        , 0.        , 0.        , 0.        ],\n",
       "         [0.        , 0.        , 0.        , 0.        , 0.21425095,\n",
       "          0.        , 0.        , 0.        , 0.        , 0.        ],\n",
       "         [0.        , 0.        , 0.        , 0.        , 0.20338118,\n",
       "          0.        , 0.        , 0.        , 0.        , 0.        ],\n",
       "         [0.        , 0.        , 0.        , 0.        , 0.19698074,\n",
       "          0.        , 0.        , 0.        , 0.        , 0.        ]],\n",
       " \n",
       "        [[0.        , 0.        , 0.        , 0.        , 0.        ,\n",
       "          0.        , 0.        , 0.19137411, 0.        , 0.        ],\n",
       "         [0.        , 0.        , 0.        , 0.        , 0.        ,\n",
       "          0.        , 0.        , 0.20370506, 0.        , 0.        ],\n",
       "         [0.        , 0.        , 0.        , 0.        , 0.        ,\n",
       "          0.        , 0.        , 0.21425095, 0.        , 0.        ],\n",
       "         [0.        , 0.        , 0.        , 0.        , 0.        ,\n",
       "          0.        , 0.        , 0.20338118, 0.        , 0.        ],\n",
       "         [0.        , 0.        , 0.        , 0.        , 0.        ,\n",
       "          0.        , 0.        , 0.19698074, 0.        , 0.        ]],\n",
       " \n",
       "        [[0.        , 0.19137411, 0.        , 0.        , 0.        ,\n",
       "          0.        , 0.        , 0.        , 0.        , 0.        ],\n",
       "         [0.        , 0.20370506, 0.        , 0.        , 0.        ,\n",
       "          0.        , 0.        , 0.        , 0.        , 0.        ],\n",
       "         [0.        , 0.21425095, 0.        , 0.        , 0.        ,\n",
       "          0.        , 0.        , 0.        , 0.        , 0.        ],\n",
       "         [0.        , 0.20338118, 0.        , 0.        , 0.        ,\n",
       "          0.        , 0.        , 0.        , 0.        , 0.        ],\n",
       "         [0.        , 0.19698074, 0.        , 0.        , 0.        ,\n",
       "          0.        , 0.        , 0.        , 0.        , 0.        ]],\n",
       " \n",
       "        [[0.        , 0.        , 0.        , 0.        , 0.        ,\n",
       "          0.        , 0.        , 0.19137411, 0.        , 0.        ],\n",
       "         [0.        , 0.        , 0.        , 0.        , 0.        ,\n",
       "          0.        , 0.        , 0.20370506, 0.        , 0.        ],\n",
       "         [0.        , 0.        , 0.        , 0.        , 0.        ,\n",
       "          0.        , 0.        , 0.21425095, 0.        , 0.        ],\n",
       "         [0.        , 0.        , 0.        , 0.        , 0.        ,\n",
       "          0.        , 0.        , 0.20338118, 0.        , 0.        ],\n",
       "         [0.        , 0.        , 0.        , 0.        , 0.        ,\n",
       "          0.        , 0.        , 0.19698074, 0.        , 0.        ]]],\n",
       "       dtype=float32)>]"
      ]
     },
     "execution_count": 26,
     "metadata": {},
     "output_type": "execute_result"
    }
   ],
   "source": [
    "j.sample(5)"
   ]
  },
  {
   "cell_type": "code",
   "execution_count": 5,
   "metadata": {},
   "outputs": [
    {
     "name": "stdout",
     "output_type": "stream",
     "text": [
      "tf.Tensor(\n",
      "[[0 1]\n",
      " [1 2]\n",
      " [2 3]\n",
      " [3 3]\n",
      " [0 1]\n",
      " [1 2]\n",
      " [2 3]\n",
      " [3 3]], shape=(8, 2), dtype=int64)\n"
     ]
    }
   ],
   "source": [
    "start = np.array([[0.0, 10, 0, 0], [0, 0.0, 3, 0.], [0., 0.0, 0.0, 2.], [0., 0., 0., 1.]])\n",
    "var = start / 2\n",
    "bs = np.concatenate((start[np.newaxis,...], start[np.newaxis,...]))\n",
    "print(tf.where(bs > 0)[:,1:])\n"
   ]
  },
  {
   "cell_type": "code",
   "execution_count": 6,
   "metadata": {},
   "outputs": [
    {
     "name": "stdout",
     "output_type": "stream",
     "text": [
      "tfp.distributions.JointDistributionSequentialAutoBatched(\"JointDistributionSequentialAutoBatched\", batch_shape=[], event_shape=[[4], [4], [4, 4]], dtype=[float64, float64, float64])\n"
     ]
    },
    {
     "data": {
      "text/plain": [
       "[<tf.Tensor: shape=(4,), dtype=float64, numpy=array([0.08224972, 0.33585882, 0.61293948, 0.70484653])>,\n",
       " <tf.Tensor: shape=(4,), dtype=float64, numpy=array([0.91775028, 0.66414118, 0.38706052, 0.29515347])>,\n",
       " <tf.Tensor: shape=(4, 4), dtype=float64, numpy=\n",
       " array([[0.91775028, 0.08224972, 0.        , 0.        ],\n",
       "        [0.        , 0.66414118, 0.33585882, 0.        ],\n",
       "        [0.        , 0.        , 0.38706052, 0.61293948],\n",
       "        [0.        , 0.        , 0.        , 1.        ]])>]"
      ]
     },
     "execution_count": 6,
     "metadata": {},
     "output_type": "execute_result"
    }
   ],
   "source": [
    "j = maxentep.recip_norm_mat_dist(start, var)\n",
    "print(j)\n",
    "j.sample()"
   ]
  },
  {
   "cell_type": "code",
   "execution_count": 7,
   "metadata": {},
   "outputs": [
    {
     "data": {
      "text/plain": [
       "<tf.Tensor: shape=(), dtype=float64, numpy=3.1583856434440656>"
      ]
     },
     "execution_count": 7,
     "metadata": {},
     "output_type": "execute_result"
    }
   ],
   "source": [
    "j.log_prob(j.sample())"
   ]
  },
  {
   "cell_type": "code",
   "execution_count": 8,
   "metadata": {},
   "outputs": [
    {
     "name": "stdout",
     "output_type": "stream",
     "text": [
      "WARNING:tensorflow:Using a while_loop for converting ParameterizedTruncatedNormal\n",
      "WARNING:tensorflow:Using a while_loop for converting ScatterNd\n",
      "WARNING:tensorflow:Using a while_loop for converting ScatterNd\n",
      "WARNING:tensorflow:Using a while_loop for converting ScatterNd\n",
      "WARNING:tensorflow:Using a while_loop for converting ScatterNd\n"
     ]
    }
   ],
   "source": [
    "x = j.log_prob(j.sample(5))"
   ]
  },
  {
   "cell_type": "code",
   "execution_count": 9,
   "metadata": {
    "scrolled": false
   },
   "outputs": [
    {
     "name": "stdout",
     "output_type": "stream",
     "text": [
      "WARNING:tensorflow:Using a while_loop for converting ParameterizedTruncatedNormal\n",
      "WARNING:tensorflow:Using a while_loop for converting ScatterNd\n",
      "WARNING:tensorflow:Using a while_loop for converting ScatterNd\n",
      "[<tf.Tensor: shape=(4, 4), dtype=float64, numpy=\n",
      "array([[0.1795317 , 0.58183253, 0.91377226, 0.67009096],\n",
      "       [0.07393932, 0.90763678, 0.43597695, 0.79950142],\n",
      "       [0.12180175, 0.88102409, 0.38727057, 0.79872368],\n",
      "       [0.34486626, 0.22472246, 0.27991893, 0.86118619]])>, <tf.Tensor: shape=(4, 4), dtype=float64, numpy=\n",
      "array([[0.8204683 , 0.41816747, 0.08622774, 0.32990904],\n",
      "       [0.92606068, 0.09236322, 0.56402305, 0.20049858],\n",
      "       [0.87819825, 0.11897591, 0.61272943, 0.20127632],\n",
      "       [0.65513374, 0.77527754, 0.72008107, 0.13881381]])>, <tf.Tensor: shape=(4, 4, 4), dtype=float64, numpy=\n",
      "array([[[0.8204683 , 0.1795317 , 0.        , 0.        ],\n",
      "        [0.        , 0.41816747, 0.58183253, 0.        ],\n",
      "        [0.        , 0.        , 0.08622774, 0.91377226],\n",
      "        [0.        , 0.        , 0.        , 1.        ]],\n",
      "\n",
      "       [[0.92606068, 0.07393932, 0.        , 0.        ],\n",
      "        [0.        , 0.09236322, 0.90763678, 0.        ],\n",
      "        [0.        , 0.        , 0.56402305, 0.43597695],\n",
      "        [0.        , 0.        , 0.        , 1.        ]],\n",
      "\n",
      "       [[0.87819825, 0.12180175, 0.        , 0.        ],\n",
      "        [0.        , 0.11897591, 0.88102409, 0.        ],\n",
      "        [0.        , 0.        , 0.61272943, 0.38727057],\n",
      "        [0.        , 0.        , 0.        , 1.        ]],\n",
      "\n",
      "       [[0.65513374, 0.34486626, 0.        , 0.        ],\n",
      "        [0.        , 0.77527754, 0.22472246, 0.        ],\n",
      "        [0.        , 0.        , 0.72008107, 0.27991893],\n",
      "        [0.        , 0.        , 0.        , 1.        ]]])>]\n"
     ]
    }
   ],
   "source": [
    "print(j.sample(4))\n",
    "#j.log_prob(j.sample())"
   ]
  },
  {
   "cell_type": "code",
   "execution_count": 10,
   "metadata": {},
   "outputs": [
    {
     "name": "stdout",
     "output_type": "stream",
     "text": [
      "(2, 4, 4)\n"
     ]
    }
   ],
   "source": [
    "i =  tf.keras.Input((1,))\n",
    "combined = np.stack((start, var))\n",
    "print(combined.shape)\n",
    "x  = maxentep.TrainableInputLayer(combined, constraint=maxentep.PositiveMaskedConstraint(combined > 0))(i)"
   ]
  },
  {
   "cell_type": "code",
   "execution_count": 11,
   "metadata": {},
   "outputs": [
    {
     "data": {
      "text/plain": [
       "<tf.Tensor: shape=(2, 2, 4, 4), dtype=float32, numpy=\n",
       "array([[[[ 0. , 10. ,  0. ,  0. ],\n",
       "         [ 0. ,  0. ,  3. ,  0. ],\n",
       "         [ 0. ,  0. ,  0. ,  2. ],\n",
       "         [ 0. ,  0. ,  0. ,  1. ]],\n",
       "\n",
       "        [[ 0. ,  5. ,  0. ,  0. ],\n",
       "         [ 0. ,  0. ,  1.5,  0. ],\n",
       "         [ 0. ,  0. ,  0. ,  1. ],\n",
       "         [ 0. ,  0. ,  0. ,  0.5]]],\n",
       "\n",
       "\n",
       "       [[[ 0. , 10. ,  0. ,  0. ],\n",
       "         [ 0. ,  0. ,  3. ,  0. ],\n",
       "         [ 0. ,  0. ,  0. ,  2. ],\n",
       "         [ 0. ,  0. ,  0. ,  1. ]],\n",
       "\n",
       "        [[ 0. ,  5. ,  0. ,  0. ],\n",
       "         [ 0. ,  0. ,  1.5,  0. ],\n",
       "         [ 0. ,  0. ,  0. ,  1. ],\n",
       "         [ 0. ,  0. ,  0. ,  0.5]]]], dtype=float32)>"
      ]
     },
     "execution_count": 11,
     "metadata": {},
     "output_type": "execute_result"
    }
   ],
   "source": [
    "m = tf.keras.Model(inputs=i, outputs=x)\n",
    "t = m(tf.constant([1., 1.]))\n",
    "t"
   ]
  },
  {
   "cell_type": "code",
   "execution_count": 12,
   "metadata": {},
   "outputs": [
    {
     "data": {
      "text/plain": [
       "(<tf.Tensor: shape=(4, 4), dtype=float32, numpy=\n",
       " array([[ 0., 10.,  0.,  0.],\n",
       "        [ 0.,  0.,  3.,  0.],\n",
       "        [ 0.,  0.,  0.,  2.],\n",
       "        [ 0.,  0.,  0.,  1.]], dtype=float32)>,\n",
       " <tf.Tensor: shape=(4, 4), dtype=float32, numpy=\n",
       " array([[0. , 5. , 0. , 0. ],\n",
       "        [0. , 0. , 1.5, 0. ],\n",
       "        [0. , 0. , 0. , 1. ],\n",
       "        [0. , 0. , 0. , 0.5]], dtype=float32)>)"
      ]
     },
     "execution_count": 12,
     "metadata": {},
     "output_type": "execute_result"
    }
   ],
   "source": [
    "t[0,0], t[0,1]"
   ]
  },
  {
   "cell_type": "code",
   "execution_count": 13,
   "metadata": {},
   "outputs": [],
   "source": [
    "i =  tf.keras.Input((1,))\n",
    "l = maxentep.recip_norm_mat_layer(i, start, var, 'test')"
   ]
  },
  {
   "cell_type": "code",
   "execution_count": 14,
   "metadata": {},
   "outputs": [],
   "source": [
    "m = tf.keras.Model(inputs=i, outputs=l)"
   ]
  },
  {
   "cell_type": "code",
   "execution_count": 15,
   "metadata": {},
   "outputs": [
    {
     "data": {
      "text/plain": [
       "<tfp.distributions.JointDistributionSequentialAutoBatched 'functional_5_test_dist_JointDistributionSequentialAutoBatched' batch_shape=[] event_shape=[[4], [4], [4, 4]] dtype=[float32, float32, float32]>"
      ]
     },
     "execution_count": 15,
     "metadata": {},
     "output_type": "execute_result"
    }
   ],
   "source": [
    "m(tf.constant([1.]))"
   ]
  },
  {
   "cell_type": "code",
   "execution_count": 16,
   "metadata": {},
   "outputs": [
    {
     "data": {
      "text/plain": [
       "<tfp.distributions.Multinomial 'Multinomial' batch_shape=[] event_shape=[10] dtype=float32>"
      ]
     },
     "execution_count": 16,
     "metadata": {},
     "output_type": "execute_result"
    }
   ],
   "source": [
    "logits = np.array(np.random.normal(size=10)).astype(np.float32)\n",
    "d = tfd.Multinomial(1, logits)\n",
    "d"
   ]
  },
  {
   "cell_type": "code",
   "execution_count": null,
   "metadata": {},
   "outputs": [],
   "source": []
  }
 ],
 "metadata": {
  "kernelspec": {
   "display_name": "Python 3",
   "language": "python",
   "name": "python3"
  },
  "language_info": {
   "codemirror_mode": {
    "name": "ipython",
    "version": 3
   },
   "file_extension": ".py",
   "mimetype": "text/x-python",
   "name": "python",
   "nbconvert_exporter": "python",
   "pygments_lexer": "ipython3",
   "version": "3.7.8"
  }
 },
 "nbformat": 4,
 "nbformat_minor": 4
}
