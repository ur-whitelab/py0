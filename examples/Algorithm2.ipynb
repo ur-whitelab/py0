{
 "cells": [
  {
   "cell_type": "code",
   "execution_count": 1,
   "metadata": {},
   "outputs": [],
   "source": [
    "import tensorflow_probability as tfp\n",
    "tfd = tfp.distributions\n",
    "import matplotlib.pyplot as plt\n",
    "import tensorflow as tf\n",
    "import pandas as pd\n",
    "import seaborn as sns\n",
    "import numpy as np\n",
    "import tqdm\n",
    "import maxentep\n",
    "# disabling gpu for now\n",
    "import os, sys\n",
    "os.environ[\"CUDA_VISIBLE_DEVICES\"] = \"-1\"\n",
    "EPS = np.finfo(np.float32).tiny\n",
    "param_batch_size = 1024\n",
    "maxent_batch_size = 32\n",
    "sns.set_context('notebook')"
   ]
  },
  {
   "cell_type": "markdown",
   "metadata": {},
   "source": [
    "## Set-up Starting Dist"
   ]
  },
  {
   "cell_type": "code",
   "execution_count": 2,
   "metadata": {},
   "outputs": [
    {
     "data": {
      "text/plain": [
       "(array([[0.31999311, 0.33252229, 0.3474846 ],\n",
       "        [0.64619769, 0.12175654, 0.23204577],\n",
       "        [0.36064754, 0.33243814, 0.30691432]]),\n",
       " array([1., 1., 1.]))"
      ]
     },
     "execution_count": 2,
     "metadata": {},
     "output_type": "execute_result"
    }
   ],
   "source": [
    "M = 3\n",
    "R = np.abs(np.random.normal(size=(M,M), loc=1.25))\n",
    "R = R / np.sum(R, axis=1).reshape(M,1)\n",
    "R, np.sum(R, axis=1)"
   ]
  },
  {
   "cell_type": "code",
   "execution_count": 3,
   "metadata": {},
   "outputs": [],
   "source": [
    "# compartment parameters\n",
    "compartments = ['E', 'A', 'I', 'R']\n",
    "C = len(compartments)\n",
    "tmat = maxentep.TransitionMatrix(compartments, [1,2])\n",
    "tmat.add_transition('E', 'A', 5, 2)\n",
    "tmat.add_transition('A', 'I', 3, 1)\n",
    "tmat.add_transition('I', 'R', 14, 3)"
   ]
  },
  {
   "cell_type": "code",
   "execution_count": 4,
   "metadata": {},
   "outputs": [],
   "source": [
    "start_logits = np.ones((M,))"
   ]
  },
  {
   "cell_type": "markdown",
   "metadata": {},
   "source": [
    "## Set-up unbiased Joint"
   ]
  },
  {
   "cell_type": "code",
   "execution_count": 5,
   "metadata": {},
   "outputs": [
    {
     "data": {
      "text/plain": [
       "[<tfp.distributions.Independent 'unbiased_model_R_dist_dist_Independentunbiased_model_R_dist_dist_TruncatedNormal' batch_shape=[] event_shape=[3, 3] dtype=float32>,\n",
       " <tfp.distributions.Independent 'unbiased_model_T_dist_dist_Independentunbiased_model_T_dist_dist_unbiased_model_T_dist_dist_reciprocalunbiased_model_T_dist_dist_TruncatedNormal' batch_shape=[] event_shape=[3] dtype=float32>,\n",
       " <tfp.distributions.Blockwise 'unbiased_model_rho_dist_dist_Blockwise' batch_shape=[] event_shape=[6] dtype=float32>,\n",
       " <tfp.distributions.Independent 'unbiased_model_beta_dist_Independentunbiased_model_beta_dist_TruncatedNormal' batch_shape=[] event_shape=[1] dtype=float32>]"
      ]
     },
     "execution_count": 5,
     "metadata": {},
     "output_type": "execute_result"
    }
   ],
   "source": [
    "unbiased_model = maxentep.ParameterJoint(start_logits, R, tmat, name='unbiased')\n",
    "unbiased_model(tf.constant([1.]))"
   ]
  },
  {
   "cell_type": "markdown",
   "metadata": {},
   "source": [
    "## Create Trainable Joint"
   ]
  },
  {
   "cell_type": "code",
   "execution_count": 6,
   "metadata": {},
   "outputs": [],
   "source": [
    "model = maxentep.ParameterJoint(start_logits, R, tmat, name='param-model')"
   ]
  },
  {
   "cell_type": "markdown",
   "metadata": {},
   "source": [
    "## Set-up loglikelihood"
   ]
  },
  {
   "cell_type": "code",
   "execution_count": 7,
   "metadata": {},
   "outputs": [
    {
     "name": "stdout",
     "output_type": "stream",
     "text": [
      "Model: \"param-model-model\"\n",
      "__________________________________________________________________________________________________\n",
      "Layer (type)                    Output Shape         Param #     Connected to                     \n",
      "==================================================================================================\n",
      "input_2 (InputLayer)            [(None, 1)]          0                                            \n",
      "__________________________________________________________________________________________________\n",
      "R-dist-hypers (TrainableInputLa (None, 2, 3, 3)      18          input_2[0][0]                    \n",
      "__________________________________________________________________________________________________\n",
      "R-dist-jitter (Lambda)          (None, 2, 3, 3)      0           R-dist-hypers[0][0]              \n",
      "__________________________________________________________________________________________________\n",
      "T-dist-hypers (TrainableInputLa (None, 2, 4, 4)      32          input_2[0][0]                    \n",
      "__________________________________________________________________________________________________\n",
      "rho-dist-start-logit-hypers (Tr (None, 3)            3           input_2[0][0]                    \n",
      "__________________________________________________________________________________________________\n",
      "rho-dist-norm-hypers (Dense)    (None, 2)            2           input_2[0][0]                    \n",
      "__________________________________________________________________________________________________\n",
      "beta (Dense)                    (None, 1)            1           input_2[0][0]                    \n",
      "__________________________________________________________________________________________________\n",
      "R-dist-dist (DistributionLambda ((3, 3), (3, 3))     0           R-dist-jitter[0][0]              \n",
      "__________________________________________________________________________________________________\n",
      "T-dist-dist (DistributionLambda ((3,), (3,))         0           T-dist-hypers[0][0]              \n",
      "__________________________________________________________________________________________________\n",
      "rho-dist-dist (DistributionLamb ((6,), (6,))         0           rho-dist-start-logit-hypers[0][0]\n",
      "                                                                 rho-dist-norm-hypers[0][0]       \n",
      "__________________________________________________________________________________________________\n",
      "beta-dist (DistributionLambda)  ((None,), (None,))   0           beta[0][0]                       \n",
      "==================================================================================================\n",
      "Total params: 56\n",
      "Trainable params: 56\n",
      "Non-trainable params: 0\n",
      "__________________________________________________________________________________________________\n"
     ]
    }
   ],
   "source": [
    "model.compile(tf.optimizers.Adam(1e-1))\n",
    "model.summary()"
   ]
  },
  {
   "cell_type": "markdown",
   "metadata": {},
   "source": [
    "## Test out the prior distributions"
   ]
  },
  {
   "cell_type": "code",
   "execution_count": 8,
   "metadata": {},
   "outputs": [
    {
     "data": {
      "text/plain": [
       "[<tfp.distributions.Independent 'param_model_model_R_dist_dist_Independentparam_model_model_R_dist_dist_TruncatedNormal' batch_shape=[] event_shape=[3, 3] dtype=float32>,\n",
       " <tfp.distributions.Independent 'param_model_model_T_dist_dist_Independentparam_model_model_T_dist_dist_param_model_model_T_dist_dist_reciprocalparam_model_model_T_dist_dist_TruncatedNormal' batch_shape=[] event_shape=[3] dtype=float32>,\n",
       " <tfp.distributions.Blockwise 'param_model_model_rho_dist_dist_Blockwise' batch_shape=[] event_shape=[6] dtype=float32>,\n",
       " <tfp.distributions.Independent 'param_model_model_beta_dist_Independentparam_model_model_beta_dist_TruncatedNormal' batch_shape=[] event_shape=[1] dtype=float32>]"
      ]
     },
     "execution_count": 8,
     "metadata": {},
     "output_type": "execute_result"
    }
   ],
   "source": [
    "p = model(tf.constant([1.]))\n",
    "p"
   ]
  },
  {
   "cell_type": "code",
   "execution_count": 9,
   "metadata": {},
   "outputs": [
    {
     "data": {
      "text/plain": [
       "<tfp.distributions.Independent 'param_model_model_T_dist_dist_Independentparam_model_model_T_dist_dist_param_model_model_T_dist_dist_reciprocalparam_model_model_T_dist_dist_TruncatedNormal' batch_shape=[] event_shape=[3] dtype=float32>"
      ]
     },
     "execution_count": 9,
     "metadata": {},
     "output_type": "execute_result"
    }
   ],
   "source": [
    "p[1]"
   ]
  },
  {
   "cell_type": "code",
   "execution_count": 10,
   "metadata": {},
   "outputs": [
    {
     "data": {
      "text/plain": [
       "<tf.Tensor: shape=(2,), dtype=float32, numpy=array([5.9294777, 6.298708 ], dtype=float32)>"
      ]
     },
     "execution_count": 10,
     "metadata": {},
     "output_type": "execute_result"
    }
   ],
   "source": [
    "p[1].sample(2)\n",
    "p[1].log_prob(p[1].sample(2))"
   ]
  },
  {
   "cell_type": "code",
   "execution_count": 11,
   "metadata": {},
   "outputs": [
    {
     "name": "stdout",
     "output_type": "stream",
     "text": [
      "[<tf.Tensor: shape=(2, 3, 3), dtype=float32, numpy=\n",
      "array([[[0.408706  , 0.32112965, 0.0400539 ],\n",
      "        [0.64914834, 0.98108125, 0.15660952],\n",
      "        [0.3633466 , 0.6101848 , 1.6774404 ]],\n",
      "\n",
      "       [[0.9094801 , 1.6227934 , 1.1486933 ],\n",
      "        [1.0852706 , 0.22143611, 0.25368878],\n",
      "        [0.6587392 , 0.10231547, 0.40707633]]], dtype=float32)>, <tf.Tensor: shape=(2, 3), dtype=float32, numpy=\n",
      "array([[0.30926493, 0.29871932, 0.05592052],\n",
      "       [0.47164595, 0.43655297, 0.07208955]], dtype=float32)>, <tf.Tensor: shape=(2, 6), dtype=float32, numpy=\n",
      "array([[0.        , 0.        , 1.        , 0.45979968, 0.2864961 ,\n",
      "        0.42573938],\n",
      "       [1.        , 0.        , 0.        , 0.22362255, 0.1923849 ,\n",
      "        0.44051424]], dtype=float32)>, <tf.Tensor: shape=(2, 1), dtype=float32, numpy=\n",
      "array([[0.1788871],\n",
      "       [0.2199021]], dtype=float32)>]\n"
     ]
    }
   ],
   "source": [
    "s = [x.sample(2) for x in p]\n",
    "print(s)"
   ]
  },
  {
   "cell_type": "code",
   "execution_count": 12,
   "metadata": {},
   "outputs": [
    {
     "data": {
      "text/plain": [
       "<tf.Tensor: shape=(2,), dtype=float32, numpy=array([4.74078 , 2.628776], dtype=float32)>"
      ]
     },
     "execution_count": 12,
     "metadata": {},
     "output_type": "execute_result"
    }
   ],
   "source": [
    "p[1].log_prob(s[1])"
   ]
  },
  {
   "cell_type": "code",
   "execution_count": 13,
   "metadata": {},
   "outputs": [
    {
     "data": {
      "text/plain": [
       "<tfp.distributions.Independent 'param_model_model_T_dist_dist_Independentparam_model_model_T_dist_dist_param_model_model_T_dist_dist_reciprocalparam_model_model_T_dist_dist_TruncatedNormal' batch_shape=[] event_shape=[3] dtype=float32>"
      ]
     },
     "execution_count": 13,
     "metadata": {},
     "output_type": "execute_result"
    }
   ],
   "source": [
    "p[1]"
   ]
  },
  {
   "cell_type": "code",
   "execution_count": 14,
   "metadata": {},
   "outputs": [
    {
     "data": {
      "text/plain": [
       "[<tf.Tensor: shape=(2,), dtype=float32, numpy=array([-4.5396895, -4.881006 ], dtype=float32)>,\n",
       " <tf.Tensor: shape=(2,), dtype=float32, numpy=array([4.74078 , 2.628776], dtype=float32)>,\n",
       " <tf.Tensor: shape=(2,), dtype=float32, numpy=array([-0.5224227 , -0.28643245], dtype=float32)>,\n",
       " <tf.Tensor: shape=(2,), dtype=float32, numpy=array([1.2452416, 0.8375747], dtype=float32)>]"
      ]
     },
     "execution_count": 14,
     "metadata": {},
     "output_type": "execute_result"
    }
   ],
   "source": [
    "[pi.log_prob(si) for pi, si in zip(p, s)]"
   ]
  },
  {
   "cell_type": "code",
   "execution_count": 15,
   "metadata": {},
   "outputs": [
    {
     "name": "stdout",
     "output_type": "stream",
     "text": [
      "1/1 [==============================] - 0s 2ms/step - loss: -0.6528 - R-dist-dist_loss: 4.7103 - T-dist-dist_loss: -3.6848 - rho-dist-dist_loss: 0.4044 - beta-dist_loss: -2.0828\n"
     ]
    },
    {
     "data": {
      "text/plain": [
       "[-0.6528191566467285,\n",
       " 4.710347652435303,\n",
       " -3.6847779750823975,\n",
       " 0.40442758798599243,\n",
       " -2.0828163623809814]"
      ]
     },
     "execution_count": 15,
     "metadata": {},
     "output_type": "execute_result"
    }
   ],
   "source": [
    "model.evaluate(tf.constant([1., 1.]), s)"
   ]
  },
  {
   "cell_type": "markdown",
   "metadata": {},
   "source": [
    "## Sampling Functions"
   ]
  },
  {
   "cell_type": "code",
   "execution_count": 16,
   "metadata": {},
   "outputs": [
    {
     "data": {
      "text/plain": [
       "[<tf.Tensor: shape=(2, 3, 3), dtype=float32, numpy=\n",
       " array([[[1.5479224 , 0.14063428, 0.6879176 ],\n",
       "         [1.276516  , 0.00924568, 1.4367051 ],\n",
       "         [0.82764333, 0.8912165 , 0.17378138]],\n",
       " \n",
       "        [[0.2669337 , 0.64107436, 0.49605376],\n",
       "         [0.14843199, 0.04912343, 0.61136794],\n",
       "         [0.8575545 , 0.3927583 , 0.5390202 ]]], dtype=float32)>,\n",
       " <tf.Tensor: shape=(2, 4, 4), dtype=float32, numpy=\n",
       " array([[[0.82572085, 0.17427915, 0.        , 0.        ],\n",
       "         [0.        , 0.5884989 , 0.4115011 , 0.        ],\n",
       "         [0.        , 0.        , 0.92389923, 0.07610077],\n",
       "         [0.        , 0.        , 0.        , 1.        ]],\n",
       " \n",
       "        [[0.84452635, 0.15547365, 0.        , 0.        ],\n",
       "         [0.        , 0.6856949 , 0.31430513, 0.        ],\n",
       "         [0.        , 0.        , 0.9296661 , 0.07033388],\n",
       "         [0.        , 0.        , 0.        , 1.        ]]], dtype=float32)>,\n",
       " <tf.Tensor: shape=(2, 3, 4), dtype=float32, numpy=\n",
       " array([[[0.       , 0.       , 0.       , 0.       ],\n",
       "         [0.0565499, 0.       , 0.       , 0.       ],\n",
       "         [0.       , 0.       , 0.       , 0.       ]],\n",
       " \n",
       "        [[0.8893022, 0.       , 0.       , 0.       ],\n",
       "         [0.       , 0.       , 0.       , 0.       ],\n",
       "         [0.       , 0.       , 0.       , 0.       ]]], dtype=float32)>,\n",
       " <tf.Tensor: shape=(2, 1), dtype=float32, numpy=\n",
       " array([[0.04294774],\n",
       "        [0.15558752]], dtype=float32)>]"
      ]
     },
     "execution_count": 16,
     "metadata": {},
     "output_type": "execute_result"
    }
   ],
   "source": [
    "v = model.sample(2)\n",
    "v"
   ]
  },
  {
   "cell_type": "code",
   "execution_count": null,
   "metadata": {},
   "outputs": [],
   "source": []
  },
  {
   "cell_type": "markdown",
   "metadata": {},
   "source": [
    "## Make some restraints"
   ]
  },
  {
   "cell_type": "code",
   "execution_count": 17,
   "metadata": {},
   "outputs": [],
   "source": [
    "r1 = maxentep.Restraint(lambda x: x[...,25,0,2], 0.4, maxentep.EmptyPrior())\n",
    "r2 = maxentep.Restraint(lambda x: x[...,50,0,2], 0.2, maxentep.EmptyPrior())"
   ]
  },
  {
   "cell_type": "markdown",
   "metadata": {},
   "source": [
    "## Make Metapopulation Model"
   ]
  },
  {
   "cell_type": "code",
   "execution_count": 18,
   "metadata": {},
   "outputs": [],
   "source": [
    "meta_model = maxentep.MetaModel(maxentep.contact_infection_func([1,2]), 150)"
   ]
  },
  {
   "cell_type": "markdown",
   "metadata": {},
   "source": [
    "## Maxent Model"
   ]
  },
  {
   "cell_type": "code",
   "execution_count": 19,
   "metadata": {},
   "outputs": [],
   "source": [
    "maxent_model = maxentep.MaxentModel([r1, r2])\n",
    "maxent_model.compile(tf.keras.optimizers.Adam(learning_rate=1e-2), 'mean_squared_error')"
   ]
  },
  {
   "cell_type": "markdown",
   "metadata": {},
   "source": [
    "## Visualize Unbiased"
   ]
  },
  {
   "cell_type": "code",
   "execution_count": 20,
   "metadata": {},
   "outputs": [
    {
     "data": {
      "text/plain": [
       "Text(0.5, 1.0, 'Unbiased Result')"
      ]
     },
     "execution_count": 20,
     "metadata": {},
     "output_type": "execute_result"
    },
    {
     "data": {
      "image/png": "[encoded data removed]",
      "text/plain": [
       "<Figure size 432x288 with 1 Axes>"
      ]
     },
     "metadata": {
      "needs_background": "light"
     },
     "output_type": "display_data"
    }
   ],
   "source": [
    "psample = unbiased_model.sample(param_batch_size)\n",
    "trajs = meta_model(*psample)\n",
    "maxentep.traj_quantile(trajs[:,:,0,:])\n",
    "plt.plot(25, r1.target, 'o', color='C2')\n",
    "plt.plot(50, r2.target, 'o', color='C2')\n",
    "plt.title('Unbiased Result')"
   ]
  },
  {
   "cell_type": "markdown",
   "metadata": {},
   "source": [
    "## Try to reweight without hyper-parameter tuning"
   ]
  },
  {
   "cell_type": "code",
   "execution_count": null,
   "metadata": {},
   "outputs": [],
   "source": [
    "me_loss = []\n",
    "# sample and get batch\n",
    "psample = unbiased_model.sample(param_batch_size)\n",
    "trajs = meta_model(*psample)\n",
    "# get weights of trajectories\n",
    "h = maxent_model.fit(trajs, batch_size=maxent_batch_size, epochs=128, verbose=False)\n",
    "me_loss.extend(h.history['loss'])\n",
    "w = maxent_model.traj_weights"
   ]
  },
  {
   "cell_type": "code",
   "execution_count": null,
   "metadata": {},
   "outputs": [],
   "source": [
    "plt.plot(me_loss)\n",
    "plt.show()"
   ]
  },
  {
   "cell_type": "code",
   "execution_count": null,
   "metadata": {},
   "outputs": [],
   "source": [
    "maxentep.traj_quantile(trajs[:,:,0,:], weights=w)\n",
    "plt.plot(25, r1.target, 'o', color='C2')\n",
    "plt.plot(50, r2.target, 'o', color='C2')\n",
    "plt.title('Maxent Result')"
   ]
  },
  {
   "cell_type": "markdown",
   "metadata": {},
   "source": [
    "## Now tune hyperparameters at the same time"
   ]
  },
  {
   "cell_type": "code",
   "execution_count": null,
   "metadata": {
    "scrolled": true
   },
   "outputs": [],
   "source": [
    "maxent_hyper_model = maxentep.HyperMaxentModel([r1, r2], model, meta_model)\n",
    "maxent_hyper_model.compile(tf.keras.optimizers.Adam(learning_rate=1e-2), 'mean_squared_error')\n",
    "maxent_hyper_model.fit(param_batch_size, 16, batch_size=32, epochs=8)"
   ]
  },
  {
   "cell_type": "markdown",
   "metadata": {},
   "source": [
    "## Compare Weights"
   ]
  },
  {
   "cell_type": "code",
   "execution_count": null,
   "metadata": {},
   "outputs": [],
   "source": [
    "sns.distplot(x=maxent_hyper_model.traj_weights)\n",
    "plt.xlim(0,0.01)\n",
    "plt.show()\n",
    "sns.distplot(x=maxent_model.traj_weights)\n",
    "plt.xlim(0,0.01)\n",
    "plt.show()"
   ]
  },
  {
   "cell_type": "code",
   "execution_count": null,
   "metadata": {},
   "outputs": [],
   "source": [
    "w = maxent_hyper_model.traj_weights\n",
    "trajs = maxent_hyper_model.trajs\n",
    "maxentep.traj_quantile(trajs[:,:,0,:], weights=w)\n",
    "plt.plot(25, r1.target, 'o', color='C2')\n",
    "plt.plot(50, r2.target, 'o', color='C2')\n",
    "plt.title('Maxent Result with Hyperparameter Tuning')\n",
    "plt.show()\n",
    "\n",
    "maxentep.traj_quantile(trajs[:,:,2,:], weights=w)\n",
    "plt.title('Maxent Result with Hyperparameter Tuning - Patch 2')"
   ]
  },
  {
   "cell_type": "markdown",
   "metadata": {},
   "source": [
    "## Compare Hyper-parameter values"
   ]
  },
  {
   "cell_type": "code",
   "execution_count": null,
   "metadata": {},
   "outputs": [],
   "source": [
    "ub = unbiased_model.get_layer('T-dist-hypers').w.numpy().flatten()\n",
    "b = model.get_layer('T-dist-hypers').w.numpy().flatten()\n",
    "plt.bar(np.arange(len(ub)) * 2 - 0.5, ub)\n",
    "plt.bar(np.arange(len(ub)) * 2 + 0.5, b)"
   ]
  },
  {
   "cell_type": "code",
   "execution_count": null,
   "metadata": {},
   "outputs": [],
   "source": [
    "ub = unbiased_model.get_layer('rho-dist-start-logit-hypers').w.numpy().flatten()\n",
    "b = model.get_layer('rho-dist-start-logit-hypers').w.numpy().flatten()\n",
    "plt.bar(np.arange(len(ub)) * 2 - 0.5, ub)\n",
    "plt.bar(np.arange(len(ub)) * 2 + 0.5, b)"
   ]
  },
  {
   "cell_type": "code",
   "execution_count": null,
   "metadata": {},
   "outputs": [],
   "source": [
    "ub = unbiased_model.get_layer('rho-dist-norm-hypers').trainable_variables[0].numpy().flatten()\n",
    "b = model.get_layer('rho-dist-norm-hypers').trainable_variables[0].numpy().flatten()\n",
    "plt.bar(np.arange(len(ub)) * 2 - 0.5, ub)\n",
    "plt.bar(np.arange(len(ub)) * 2 + 0.5, b)"
   ]
  },
  {
   "cell_type": "markdown",
   "metadata": {},
   "source": [
    "## Now compare with Directed regression"
   ]
  },
  {
   "cell_type": "code",
   "execution_count": null,
   "metadata": {},
   "outputs": [],
   "source": [
    "infect = maxentep.ContactInfectionLayer(0.1, tmat.infectious_compartments)\n",
    "reg_model = maxentep.TrainableMetaModel(start, R, tmat.value, infect, 100, lambda traj: (r1(traj)**2 + r2(traj)**2))"
   ]
  },
  {
   "cell_type": "code",
   "execution_count": null,
   "metadata": {},
   "outputs": [],
   "source": [
    "reg_model.compile(optimizer=tf.keras.optimizers.Adam(1e-2))\n",
    "reg_model.fit(epochs=1, verbose=True)"
   ]
  },
  {
   "cell_type": "code",
   "execution_count": null,
   "metadata": {},
   "outputs": [],
   "source": [
    "traj = reg_model.get_traj()\n",
    "plt.plot(traj[0,:,0,:])\n",
    "plt.plot(25, r1.target, 'o', color='C2')\n",
    "plt.plot(50, r2.target, 'o', color='C2')\n",
    "plt.title('Direct Regression - Patch 1')\n",
    "plt.show()\n",
    "traj = reg_model.get_traj()\n",
    "plt.plot(traj[0,:,1,:])\n",
    "plt.title('Direct Regression - Patch 2')\n",
    "plt.show()"
   ]
  }
 ],
 "metadata": {
  "kernelspec": {
   "display_name": "Python 3",
   "language": "python",
   "name": "python3"
  },
  "language_info": {
   "codemirror_mode": {
    "name": "ipython",
    "version": 3
   },
   "file_extension": ".py",
   "mimetype": "text/x-python",
   "name": "python",
   "nbconvert_exporter": "python",
   "pygments_lexer": "ipython3",
   "version": "3.7.8"
  }
 },
 "nbformat": 4,
 "nbformat_minor": 4
}
